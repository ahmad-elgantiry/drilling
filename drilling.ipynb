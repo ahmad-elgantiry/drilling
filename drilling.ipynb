{
 "cells": [
  {
   "cell_type": "code",
   "execution_count": 1,
   "metadata": {},
   "outputs": [],
   "source": [
    "import pandas as pd"
   ]
  },
  {
   "cell_type": "code",
   "execution_count": 2,
   "metadata": {},
   "outputs": [],
   "source": [
    "df=pd.read_csv(\"XAI_Drilling_Dataset.csv\")"
   ]
  },
  {
   "cell_type": "code",
   "execution_count": 3,
   "metadata": {},
   "outputs": [
    {
     "name": "stdout",
     "output_type": "stream",
     "text": [
      "<class 'pandas.core.frame.DataFrame'>\n",
      "RangeIndex: 20000 entries, 0 to 19999\n",
      "Data columns (total 15 columns):\n",
      " #   Column                    Non-Null Count  Dtype  \n",
      "---  ------                    --------------  -----  \n",
      " 0   ID                        20000 non-null  int64  \n",
      " 1   Cutting speed vc [m/min]  20000 non-null  float64\n",
      " 2   Spindle speed n [1/min]   20000 non-null  int64  \n",
      " 3   Feed f [mm/rev]           20000 non-null  float64\n",
      " 4   Feed rate vf [mm/min]     20000 non-null  int64  \n",
      " 5   Power Pc [kW]             20000 non-null  float64\n",
      " 6   Cooling [%]               20000 non-null  int64  \n",
      " 7   Material                  20000 non-null  object \n",
      " 8   Drill Bit Type            20000 non-null  object \n",
      " 9   Process Time [sec]        20000 non-null  float64\n",
      " 10  Main Failure              20000 non-null  int64  \n",
      " 11  BEF                       20000 non-null  int64  \n",
      " 12  CCF                       20000 non-null  int64  \n",
      " 13  FWF                       20000 non-null  int64  \n",
      " 14  WDF                       20000 non-null  int64  \n",
      "dtypes: float64(4), int64(9), object(2)\n",
      "memory usage: 2.3+ MB\n"
     ]
    }
   ],
   "source": [
    "df.info()"
   ]
  },
  {
   "cell_type": "markdown",
   "metadata": {},
   "source": [
    "I will drop the last four coulumns because the model will classify only if there is a failure or not / not interested in the type of the failure "
   ]
  },
  {
   "cell_type": "code",
   "execution_count": 5,
   "metadata": {},
   "outputs": [
    {
     "data": {
      "text/plain": [
       "Index(['ID', 'Cutting speed vc [m/min]', 'Spindle speed n [1/min]',\n",
       "       'Feed f [mm/rev]', 'Feed rate vf [mm/min]', 'Power Pc [kW]',\n",
       "       'Cooling [%]', 'Material', 'Drill Bit Type', 'Process Time [sec]',\n",
       "       'Main Failure', 'BEF', 'CCF', 'FWF', 'WDF'],\n",
       "      dtype='object')"
      ]
     },
     "execution_count": 5,
     "metadata": {},
     "output_type": "execute_result"
    }
   ],
   "source": [
    "df.columns"
   ]
  },
  {
   "cell_type": "markdown",
   "metadata": {},
   "source": []
  },
  {
   "cell_type": "code",
   "execution_count": 7,
   "metadata": {},
   "outputs": [],
   "source": [
    "df=df.drop(['BEF', 'CCF', 'FWF', 'WDF',\"ID\"],axis=1)"
   ]
  },
  {
   "cell_type": "code",
   "execution_count": 8,
   "metadata": {},
   "outputs": [
    {
     "name": "stdout",
     "output_type": "stream",
     "text": [
      "<class 'pandas.core.frame.DataFrame'>\n",
      "RangeIndex: 20000 entries, 0 to 19999\n",
      "Data columns (total 10 columns):\n",
      " #   Column                    Non-Null Count  Dtype  \n",
      "---  ------                    --------------  -----  \n",
      " 0   Cutting speed vc [m/min]  20000 non-null  float64\n",
      " 1   Spindle speed n [1/min]   20000 non-null  int64  \n",
      " 2   Feed f [mm/rev]           20000 non-null  float64\n",
      " 3   Feed rate vf [mm/min]     20000 non-null  int64  \n",
      " 4   Power Pc [kW]             20000 non-null  float64\n",
      " 5   Cooling [%]               20000 non-null  int64  \n",
      " 6   Material                  20000 non-null  object \n",
      " 7   Drill Bit Type            20000 non-null  object \n",
      " 8   Process Time [sec]        20000 non-null  float64\n",
      " 9   Main Failure              20000 non-null  int64  \n",
      "dtypes: float64(4), int64(4), object(2)\n",
      "memory usage: 1.5+ MB\n"
     ]
    }
   ],
   "source": [
    "df.info()"
   ]
  },
  {
   "cell_type": "code",
   "execution_count": 9,
   "metadata": {},
   "outputs": [
    {
     "data": {
      "text/plain": [
       "Main Failure\n",
       "0    18999\n",
       "1     1001\n",
       "Name: count, dtype: int64"
      ]
     },
     "execution_count": 9,
     "metadata": {},
     "output_type": "execute_result"
    }
   ],
   "source": [
    "df[\"Main Failure\"].value_counts()"
   ]
  },
  {
   "cell_type": "markdown",
   "metadata": {},
   "source": [
    "the data set is unbalanced "
   ]
  },
  {
   "cell_type": "code",
   "execution_count": 11,
   "metadata": {},
   "outputs": [
    {
     "data": {
      "text/plain": [
       "array(['N', 'P', 'K'], dtype=object)"
      ]
     },
     "execution_count": 11,
     "metadata": {},
     "output_type": "execute_result"
    }
   ],
   "source": [
    "df[\"Material\"].unique()"
   ]
  },
  {
   "cell_type": "code",
   "execution_count": 12,
   "metadata": {},
   "outputs": [
    {
     "data": {
      "text/plain": [
       "array(['W', 'N', 'H'], dtype=object)"
      ]
     },
     "execution_count": 12,
     "metadata": {},
     "output_type": "execute_result"
    }
   ],
   "source": [
    "df[\"Drill Bit Type\"].unique()"
   ]
  },
  {
   "cell_type": "code",
   "execution_count": 14,
   "metadata": {},
   "outputs": [],
   "source": [
    "for col in [\"Material\",\"Drill Bit Type\"]:\n",
    "    dummies = pd.get_dummies(df[col],prefix=col)\n",
    "    df.drop([col], axis=1,inplace=True)\n",
    "    df = pd.concat([df, dummies], axis=1)\n",
    "\n",
    "\n"
   ]
  },
  {
   "cell_type": "code",
   "execution_count": 15,
   "metadata": {},
   "outputs": [
    {
     "data": {
      "text/plain": [
       "Index(['Cutting speed vc [m/min]', 'Spindle speed n [1/min]',\n",
       "       'Feed f [mm/rev]', 'Feed rate vf [mm/min]', 'Power Pc [kW]',\n",
       "       'Cooling [%]', 'Process Time [sec]', 'Main Failure', 'Material_K',\n",
       "       'Material_N', 'Material_P', 'Drill Bit Type_H', 'Drill Bit Type_N',\n",
       "       'Drill Bit Type_W'],\n",
       "      dtype='object')"
      ]
     },
     "execution_count": 15,
     "metadata": {},
     "output_type": "execute_result"
    }
   ],
   "source": [
    "df.columns"
   ]
  },
  {
   "cell_type": "code",
   "execution_count": 16,
   "metadata": {},
   "outputs": [
    {
     "data": {
      "text/html": [
       "<div>\n",
       "<style scoped>\n",
       "    .dataframe tbody tr th:only-of-type {\n",
       "        vertical-align: middle;\n",
       "    }\n",
       "\n",
       "    .dataframe tbody tr th {\n",
       "        vertical-align: top;\n",
       "    }\n",
       "\n",
       "    .dataframe thead th {\n",
       "        text-align: right;\n",
       "    }\n",
       "</style>\n",
       "<table border=\"1\" class=\"dataframe\">\n",
       "  <thead>\n",
       "    <tr style=\"text-align: right;\">\n",
       "      <th></th>\n",
       "      <th>Cutting speed vc [m/min]</th>\n",
       "      <th>Spindle speed n [1/min]</th>\n",
       "      <th>Feed f [mm/rev]</th>\n",
       "      <th>Feed rate vf [mm/min]</th>\n",
       "      <th>Power Pc [kW]</th>\n",
       "      <th>Cooling [%]</th>\n",
       "      <th>Process Time [sec]</th>\n",
       "      <th>Main Failure</th>\n",
       "      <th>Material_K</th>\n",
       "      <th>Material_N</th>\n",
       "      <th>Material_P</th>\n",
       "      <th>Drill Bit Type_H</th>\n",
       "      <th>Drill Bit Type_N</th>\n",
       "      <th>Drill Bit Type_W</th>\n",
       "    </tr>\n",
       "  </thead>\n",
       "  <tbody>\n",
       "    <tr>\n",
       "      <th>0</th>\n",
       "      <td>29.92</td>\n",
       "      <td>794</td>\n",
       "      <td>0.218</td>\n",
       "      <td>173</td>\n",
       "      <td>194.87</td>\n",
       "      <td>75</td>\n",
       "      <td>19.26</td>\n",
       "      <td>0</td>\n",
       "      <td>False</td>\n",
       "      <td>True</td>\n",
       "      <td>False</td>\n",
       "      <td>False</td>\n",
       "      <td>False</td>\n",
       "      <td>True</td>\n",
       "    </tr>\n",
       "    <tr>\n",
       "      <th>1</th>\n",
       "      <td>29.85</td>\n",
       "      <td>792</td>\n",
       "      <td>0.241</td>\n",
       "      <td>191</td>\n",
       "      <td>214.71</td>\n",
       "      <td>75</td>\n",
       "      <td>19.55</td>\n",
       "      <td>0</td>\n",
       "      <td>False</td>\n",
       "      <td>True</td>\n",
       "      <td>False</td>\n",
       "      <td>False</td>\n",
       "      <td>False</td>\n",
       "      <td>True</td>\n",
       "    </tr>\n",
       "  </tbody>\n",
       "</table>\n",
       "</div>"
      ],
      "text/plain": [
       "   Cutting speed vc [m/min]  Spindle speed n [1/min]  Feed f [mm/rev]  \\\n",
       "0                     29.92                      794            0.218   \n",
       "1                     29.85                      792            0.241   \n",
       "\n",
       "   Feed rate vf [mm/min]  Power Pc [kW]  Cooling [%]  Process Time [sec]  \\\n",
       "0                    173         194.87           75               19.26   \n",
       "1                    191         214.71           75               19.55   \n",
       "\n",
       "   Main Failure  Material_K  Material_N  Material_P  Drill Bit Type_H  \\\n",
       "0             0       False        True       False             False   \n",
       "1             0       False        True       False             False   \n",
       "\n",
       "   Drill Bit Type_N  Drill Bit Type_W  \n",
       "0             False              True  \n",
       "1             False              True  "
      ]
     },
     "execution_count": 16,
     "metadata": {},
     "output_type": "execute_result"
    }
   ],
   "source": [
    "df.head(2)"
   ]
  },
  {
   "cell_type": "code",
   "execution_count": 20,
   "metadata": {},
   "outputs": [],
   "source": [
    "from sklearn.preprocessing import StandardScaler\n",
    "from sklearn.model_selection import train_test_split"
   ]
  },
  {
   "cell_type": "code",
   "execution_count": 21,
   "metadata": {},
   "outputs": [],
   "source": [
    "X = df.drop(columns=[\"Main Failure\"])\n",
    "y = df[\"Main Failure\" ]"
   ]
  },
  {
   "cell_type": "code",
   "execution_count": 22,
   "metadata": {},
   "outputs": [],
   "source": [
    "X_train, X_test, y_train, y_test = train_test_split(X,y, test_size=.3, random_state=12)\n"
   ]
  },
  {
   "cell_type": "code",
   "execution_count": 23,
   "metadata": {},
   "outputs": [
    {
     "data": {
      "text/plain": [
       "(14000, 13)"
      ]
     },
     "execution_count": 23,
     "metadata": {},
     "output_type": "execute_result"
    }
   ],
   "source": [
    "X_train.shape"
   ]
  },
  {
   "cell_type": "code",
   "execution_count": 24,
   "metadata": {},
   "outputs": [
    {
     "data": {
      "text/plain": [
       "Main Failure\n",
       "0    13285\n",
       "1      715\n",
       "Name: count, dtype: int64"
      ]
     },
     "execution_count": 24,
     "metadata": {},
     "output_type": "execute_result"
    }
   ],
   "source": [
    "y_train.value_counts()"
   ]
  },
  {
   "cell_type": "code",
   "execution_count": 25,
   "metadata": {},
   "outputs": [],
   "source": [
    "from imblearn.over_sampling import RandomOverSampler\n",
    "oversampler = RandomOverSampler(sampling_strategy='auto', random_state=42)\n",
    "X_train_oversampled, y_train_oversampled = oversampler.fit_resample(X_train,\n",
    "y_train)"
   ]
  },
  {
   "cell_type": "code",
   "execution_count": 26,
   "metadata": {},
   "outputs": [
    {
     "data": {
      "text/plain": [
       "Main Failure\n",
       "0    13285\n",
       "1    13285\n",
       "Name: count, dtype: int64"
      ]
     },
     "execution_count": 26,
     "metadata": {},
     "output_type": "execute_result"
    }
   ],
   "source": [
    "y_train_oversampled.value_counts()"
   ]
  },
  {
   "cell_type": "code",
   "execution_count": 27,
   "metadata": {},
   "outputs": [],
   "source": [
    "scaler=StandardScaler()\n",
    "X_Trained_oversampled_scaled =scaler.fit_transform(X_train_oversampled)\n",
    "X_test_scaled = scaler.transform(X_test)"
   ]
  },
  {
   "cell_type": "code",
   "execution_count": 28,
   "metadata": {},
   "outputs": [
    {
     "data": {
      "text/plain": [
       "array([[ 1.23846823,  1.23740475,  0.42316928, ..., -0.66064299,\n",
       "        -0.73881387,  1.38382633],\n",
       "       [ 1.20933934,  1.20812195,  0.54756282, ..., -0.66064299,\n",
       "        -0.73881387,  1.38382633],\n",
       "       [ 1.19768778,  1.20080125, -0.12416225, ..., -0.66064299,\n",
       "        -0.73881387,  1.38382633],\n",
       "       ...,\n",
       "       [-1.32099037, -1.32483985, -0.2983132 , ...,  1.51367686,\n",
       "        -0.73881387, -0.72263403],\n",
       "       [ 1.23846823,  1.23740475,  0.32365446, ...,  1.51367686,\n",
       "        -0.73881387, -0.72263403],\n",
       "       [-1.23748755, -1.23699146,  0.14950352, ...,  1.51367686,\n",
       "        -0.73881387, -0.72263403]])"
      ]
     },
     "execution_count": 28,
     "metadata": {},
     "output_type": "execute_result"
    }
   ],
   "source": [
    "X_Trained_oversampled_scaled"
   ]
  },
  {
   "cell_type": "code",
   "execution_count": 29,
   "metadata": {},
   "outputs": [],
   "source": [
    "from sklearn.linear_model import LogisticRegression\n",
    "from sklearn.metrics import accuracy_score, precision_score, recall_score, f1_score\n"
   ]
  },
  {
   "cell_type": "code",
   "execution_count": 30,
   "metadata": {},
   "outputs": [],
   "source": [
    "model = LogisticRegression()"
   ]
  },
  {
   "cell_type": "code",
   "execution_count": 37,
   "metadata": {},
   "outputs": [
    {
     "name": "stdout",
     "output_type": "stream",
     "text": [
      " accuracy = 0.9343333333333333 and precision=0.40217391304347827 and recall = 0.7762237762237763 and f1 = 0.5298329355608592\n"
     ]
    }
   ],
   "source": [
    "model.fit(X_Trained_oversampled_scaled, y_train_oversampled)\n",
    "\n",
    "# Make predictions on the testing set\n",
    "y_pred = model.predict(X_test_scaled)\n",
    "\n",
    "# Evaluate the model\n",
    "accuracy = accuracy_score(y_test, y_pred)\n",
    "\n",
    "precision = precision_score(y_test, y_pred)\n",
    "recall = recall_score(y_test, y_pred)\n",
    "f1 = f1_score(y_test, y_pred)\n",
    "print(f\" accuracy = {accuracy} and precision={precision} and recall = {recall} and f1 = {f1}\")"
   ]
  },
  {
   "cell_type": "code",
   "execution_count": null,
   "metadata": {},
   "outputs": [],
   "source": []
  }
 ],
 "metadata": {
  "kernelspec": {
   "display_name": "base",
   "language": "python",
   "name": "python3"
  },
  "language_info": {
   "codemirror_mode": {
    "name": "ipython",
    "version": 3
   },
   "file_extension": ".py",
   "mimetype": "text/x-python",
   "name": "python",
   "nbconvert_exporter": "python",
   "pygments_lexer": "ipython3",
   "version": "3.11.7"
  }
 },
 "nbformat": 4,
 "nbformat_minor": 2
}
